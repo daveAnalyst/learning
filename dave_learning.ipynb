{
  "nbformat": 4,
  "nbformat_minor": 0,
  "metadata": {
    "colab": {
      "provenance": []
    },
    "kernelspec": {
      "name": "python3",
      "display_name": "Python 3"
    },
    "language_info": {
      "name": "python"
    }
  },
  "cells": [
    {
      "cell_type": "markdown",
      "source": [
        "\n",
        "## name;dave\n"
      ],
      "metadata": {
        "id": "n3v88Zd09Mr0"
      }
    },
    {
      "cell_type": "markdown",
      "source": [
        "## install frameworks"
      ],
      "metadata": {
        "id": "hHl_sbHmv5Ch"
      }
    },
    {
      "cell_type": "code",
      "execution_count": null,
      "metadata": {
        "id": "0A1rGknlXgKJ"
      },
      "outputs": [],
      "source": [
        "!pip install findspark\n",
        "import findspark\n",
        "findspark.init()"
      ]
    },
    {
      "cell_type": "code",
      "source": [
        "!pip install pyspark\n",
        "# Create SparkSession from builder\n",
        "from pyspark.sql import SparkSession\n",
        "spark = SparkSession.builder.master('local').appName(\"Hello World\").getOrCreate()\n",
        "sc = spark.sparkContext"
      ],
      "metadata": {
        "id": "By8bJ5L3ZJUM"
      },
      "execution_count": null,
      "outputs": []
    },
    {
      "cell_type": "markdown",
      "source": [
        "start session"
      ],
      "metadata": {
        "id": "okwYkvgGZnoD"
      }
    },
    {
      "cell_type": "code",
      "source": [
        "df = spark.read.option(\"header\",\"true\") \\\n",
        "    .option(\"delimiter\", \"\\t\") \\\n",
        "    .option(\"inferSchema\", \"true\") \\\n",
        "    .csv(\"/content/carSalesText.txt\")"
      ],
      "metadata": {
        "id": "0qSVtadOZ1v4"
      },
      "execution_count": null,
      "outputs": []
    },
    {
      "cell_type": "code",
      "source": [
        "df.show() ## shows the dataset"
      ],
      "metadata": {
        "colab": {
          "base_uri": "https://localhost:8080/"
        },
        "id": "6UrOqxYOZqVy",
        "outputId": "ce74c5b0-6223-405b-a3cc-6be752e9e36c"
      },
      "execution_count": null,
      "outputs": [
        {
          "output_type": "stream",
          "name": "stdout",
          "text": [
            "+---------+--------------------+-------------+-----+------------+---------+----+-------+-----------------+--------------+-------------------+--------------------+----------------+--------------------+----------------------+--------------------+--------------------+\n",
            "|ProductID|                Name|ProductNumber|Color|StandardCost|ListPrice|Size| Weight|ProductCategoryID|ProductModelID|      SellStartDate|         SellEndDate|DiscontinuedDate|      ThumbNailPhoto|ThumbnailPhotoFileName|             rowguid|        ModifiedDate|\n",
            "+---------+--------------------+-------------+-----+------------+---------+----+-------+-----------------+--------------+-------------------+--------------------+----------------+--------------------+----------------------+--------------------+--------------------+\n",
            "|      680|HL Road Frame - B...|   FR-R92B-58|Black|     1059.31|   1431.5|  58|1016.04|               18|             6|1998-06-01 00:00:00|                NULL|            NULL|0x474946383961500...|  no_image_availabl...|43DD68D6-14A4-461...|2004-03-11 10:01:...|\n",
            "|      706|HL Road Frame - R...|   FR-R92R-58|  Red|     1059.31|   1431.5|  58|1016.04|               18|             6|1998-06-01 00:00:00|                NULL|            NULL|0x474946383961500...|  no_image_availabl...|9540FF17-2712-4C9...|2004-03-11 10:01:...|\n",
            "|      707|Sport-100 Helmet,...|    HL-U509-R|  Red|     13.0863|    34.99|NULL|   NULL|               35|            33|2001-07-01 00:00:00|                NULL|            NULL|0x474946383961500...|  no_image_availabl...|2E1EF41A-C08A-4FF...|2004-03-11 10:01:...|\n",
            "|      708|Sport-100 Helmet,...|      HL-U509|Black|     13.0863|    34.99|NULL|   NULL|               35|            33|2001-07-01 00:00:00|                NULL|            NULL|0x474946383961500...|  no_image_availabl...|A25A44FB-C2DE-426...|2004-03-11 10:01:...|\n",
            "|      709|Mountain Bike Soc...|    SO-B909-M|White|      3.3963|      9.5|   M|   NULL|               27|            18|2001-07-01 00:00:00|2002-06-30 00:00:...|            NULL|0x474946383961500...|  no_image_availabl...|18F95F47-1540-4E0...|2004-03-11 10:01:...|\n",
            "|      710|Mountain Bike Soc...|    SO-B909-L|White|      3.3963|      9.5|   L|   NULL|               27|            18|2001-07-01 00:00:00|2002-06-30 00:00:...|            NULL|0x474946383961500...|  no_image_availabl...|161C035E-21B3-4E1...|2004-03-11 10:01:...|\n",
            "|      711|Sport-100 Helmet,...|    HL-U509-B| Blue|     13.0863|    34.99|NULL|   NULL|               35|            33|2001-07-01 00:00:00|                NULL|            NULL|0x474946383961500...|  no_image_availabl...|FD7C0858-4179-48C...|2004-03-11 10:01:...|\n",
            "|      712|        AWC Logo Cap|      CA-1098|Multi|      6.9223|     8.99|NULL|   NULL|               23|             2|2001-07-01 00:00:00|                NULL|            NULL|0x474946383961500...|  no_image_availabl...|B9EDE243-A6F4-462...|2004-03-11 10:01:...|\n",
            "|      713|Long-Sleeve Logo ...|    LJ-0192-S|Multi|     38.4923|    49.99|   S|   NULL|               25|            11|2001-07-01 00:00:00|                NULL|            NULL|0x474946383961500...|  awc_jersey_male_s...|FD449C82-A259-4FA...|2004-03-11 10:01:...|\n",
            "|      714|Long-Sleeve Logo ...|    LJ-0192-M|Multi|     38.4923|    49.99|   M|   NULL|               25|            11|2001-07-01 00:00:00|                NULL|            NULL|0x474946383961500...|  awc_jersey_male_s...|6A290063-A0CF-432...|2004-03-11 10:01:...|\n",
            "|      715|Long-Sleeve Logo ...|    LJ-0192-L|Multi|     38.4923|    49.99|   L|   NULL|               25|            11|2001-07-01 00:00:00|                NULL|            NULL|0x474946383961500...|  awc_jersey_male_s...|34CF5EF5-C077-4EA...|2004-03-11 10:01:...|\n",
            "|      716|Long-Sleeve Logo ...|    LJ-0192-X|Multi|     38.4923|    49.99|  XL|   NULL|               25|            11|2001-07-01 00:00:00|                NULL|            NULL|0x474946383961500...|  awc_jersey_male_s...|6EC47EC9-C041-4DD...|2004-03-11 10:01:...|\n",
            "|      717|HL Road Frame - R...|   FR-R92R-62|  Red|    868.6342|   1431.5|  62|1043.26|               18|             6|2001-07-01 00:00:00|                NULL|            NULL|0x474946383961500...|  no_image_availabl...|052E4F8B-0A2A-46B...|2004-03-11 10:01:...|\n",
            "|      718|HL Road Frame - R...|   FR-R92R-44|  Red|    868.6342|   1431.5|  44| 961.61|               18|             6|2001-07-01 00:00:00|                NULL|            NULL|0x474946383961500...|  no_image_availabl...|A88D3B54-2CAE-43F...|2004-03-11 10:01:...|\n",
            "|      719|HL Road Frame - R...|   FR-R92R-48|  Red|    868.6342|   1431.5|  48| 979.75|               18|             6|2001-07-01 00:00:00|                NULL|            NULL|0x474946383961500...|  no_image_availabl...|07BEFC9A-7634-402...|2004-03-11 10:01:...|\n",
            "|      720|HL Road Frame - R...|   FR-R92R-52|  Red|    868.6342|   1431.5|  52| 997.90|               18|             6|2001-07-01 00:00:00|                NULL|            NULL|0x474946383961500...|  no_image_availabl...|FCFEA68F-310E-4E6...|2004-03-11 10:01:...|\n",
            "|      721|HL Road Frame - R...|   FR-R92R-56|  Red|    868.6342|   1431.5|  56|1016.04|               18|             6|2001-07-01 00:00:00|                NULL|            NULL|0x474946383961500...|  no_image_availabl...|56C85873-4993-41B...|2004-03-11 10:01:...|\n",
            "|      722|LL Road Frame - B...|   FR-R38B-58|Black|    204.6251|   337.22|  58|1115.83|               18|             9|2001-07-01 00:00:00|                NULL|            NULL|0x474946383961500...|  no_image_availabl...|2140F256-F705-4D6...|2004-03-11 10:01:...|\n",
            "|      723|LL Road Frame - B...|   FR-R38B-60|Black|    204.6251|   337.22|  60|1124.90|               18|             9|2001-07-01 00:00:00|                NULL|            NULL|0x474946383961500...|  no_image_availabl...|AA95E2A5-E7C4-4B7...|2004-03-11 10:01:...|\n",
            "|      724|LL Road Frame - B...|   FR-R38B-62|Black|    204.6251|   337.22|  62|1133.98|               18|             9|2001-07-01 00:00:00|                NULL|            NULL|0x474946383961500...|  no_image_availabl...|5247BE33-50BF-452...|2004-03-11 10:01:...|\n",
            "+---------+--------------------+-------------+-----+------------+---------+----+-------+-----------------+--------------+-------------------+--------------------+----------------+--------------------+----------------------+--------------------+--------------------+\n",
            "only showing top 20 rows\n",
            "\n"
          ]
        }
      ]
    },
    {
      "cell_type": "markdown",
      "source": [
        "2.dataframe structures without SQL\n",
        "# arranges the two colums Name and Weight without using an SQL code"
      ],
      "metadata": {
        "id": "fma8uSaleNL1"
      }
    },
    {
      "cell_type": "code",
      "source": [
        "df.select(\"Name\",\"Weight\").sort(\"Weight\", asc=False).show(5)"
      ],
      "metadata": {
        "colab": {
          "base_uri": "https://localhost:8080/"
        },
        "id": "3GaliV4cebNC",
        "outputId": "ea211105-65fd-4139-99fe-225b9a26a681"
      },
      "execution_count": null,
      "outputs": [
        {
          "output_type": "stream",
          "name": "stdout",
          "text": [
            "+--------------------+-------+\n",
            "|                Name| Weight|\n",
            "+--------------------+-------+\n",
            "|ML Road Frame - R...|1006.97|\n",
            "|HL Road Frame - B...|1016.04|\n",
            "|HL Road Frame - R...|1016.04|\n",
            "|HL Road Frame - R...|1016.04|\n",
            "|ML Road Frame - R...|1025.11|\n",
            "+--------------------+-------+\n",
            "only showing top 5 rows\n",
            "\n"
          ]
        }
      ]
    },
    {
      "cell_type": "markdown",
      "source": [
        "3. dataframe structures with SQL"
      ],
      "metadata": {
        "id": "X1fjHNE0juVT"
      }
    },
    {
      "cell_type": "code",
      "source": [
        "\n",
        "df.createOrReplaceTempView(\"df\")\n",
        "spark.sql(\"select Name,Weight from df ORDER BY Weight asc\").show(5)\n"
      ],
      "metadata": {
        "colab": {
          "base_uri": "https://localhost:8080/"
        },
        "id": "zA8AvvCIjynt",
        "outputId": "90a7bb8c-5d87-4b48-cca2-05a831f2561c"
      },
      "execution_count": null,
      "outputs": [
        {
          "output_type": "stream",
          "name": "stdout",
          "text": [
            "+--------------------+-------+\n",
            "|                Name| Weight|\n",
            "+--------------------+-------+\n",
            "|ML Road Frame - R...|1006.97|\n",
            "|HL Road Frame - B...|1016.04|\n",
            "|HL Road Frame - R...|1016.04|\n",
            "|HL Road Frame - R...|1016.04|\n",
            "|ML Road Frame - R...|1025.11|\n",
            "+--------------------+-------+\n",
            "only showing top 5 rows\n",
            "\n"
          ]
        }
      ]
    },
    {
      "cell_type": "markdown",
      "source": [
        "1. change the dataframe to RDD"
      ],
      "metadata": {
        "id": "7Evtjk7fl0f9"
      }
    },
    {
      "cell_type": "code",
      "source": [
        "rdd = df.rdd\n",
        "print(rdd.collect())"
      ],
      "metadata": {
        "colab": {
          "base_uri": "https://localhost:8080/"
        },
        "id": "aTAq1-sKmFG0",
        "outputId": "e91c990a-1cda-46a5-d062-5f7f2d8878ec"
      },
      "execution_count": null,
      "outputs": [
        {
          "output_type": "stream",
          "name": "stdout",
          "text": [
            "[Row(ProductID=680, Name='HL Road Frame - Black, 58', ProductNumber='FR-R92B-58', Color='Black', StandardCost=1059.31, ListPrice=1431.5, Size='58', Weight='1016.04', ProductCategoryID=18, ProductModelID=6, SellStartDate=datetime.datetime(1998, 6, 1, 0, 0), SellEndDate='NULL', DiscontinuedDate='NULL', ThumbNailPhoto='0x47494638396150003100F70000000000800000008000808000000080800080008080808080C0C0C0FF000000FF00FFFF000000FFFF00FF00FFFFFFFFFF000000000000000000000000000000000000000000000000000000000000000000000000000000000000000000000000000000000000000000000000000000000000', ThumbnailPhotoFileName='no_image_available_small.gif', rowguid='43DD68D6-14A4-461F-9069-55309D90EA7E', ModifiedDate=datetime.datetime(2004, 3, 11, 10, 1, 36, 827000)), Row(ProductID=706, Name='HL Road Frame - Red, 58', ProductNumber='FR-R92R-58', Color='Red', StandardCost=1059.31, ListPrice=1431.5, Size='58', Weight='1016.04', ProductCategoryID=18, ProductModelID=6, SellStartDate=datetime.datetime(1998, 6, 1, 0, 0), SellEndDate='NULL', DiscontinuedDate='NULL', ThumbNailPhoto='0x47494638396150003100F70000000000800000008000808000000080800080008080808080C0C0C0FF000000FF00FFFF000000FFFF00FF00FFFFFFFFFF000000000000000000000000000000000000000000000000000000000000000000000000000000000000000000000000000000000000000000000000000000000000', ThumbnailPhotoFileName='no_image_available_small.gif', rowguid='9540FF17-2712-4C90-A3D1-8CE5568B2462', ModifiedDate=datetime.datetime(2004, 3, 11, 10, 1, 36, 827000)), Row(ProductID=707, Name='Sport-100 Helmet, Red', ProductNumber='HL-U509-R', Color='Red', StandardCost=13.0863, ListPrice=34.99, Size='NULL', Weight='NULL', ProductCategoryID=35, ProductModelID=33, SellStartDate=datetime.datetime(2001, 7, 1, 0, 0), SellEndDate='NULL', DiscontinuedDate='NULL', ThumbNailPhoto='0x47494638396150003100F70000000000800000008000808000000080800080008080808080C0C0C0FF000000FF00FFFF000000FFFF00FF00FFFFFFFFFF000000000000000000000000000000000000000000000000000000000000000000000000000000000000000000000000000000000000000000000000000000000000', ThumbnailPhotoFileName='no_image_available_small.gif', rowguid='2E1EF41A-C08A-4FF6-8ADA-BDE58B64A712', ModifiedDate=datetime.datetime(2004, 3, 11, 10, 1, 36, 827000)), Row(ProductID=708, Name='Sport-100 Helmet, Black', ProductNumber='HL-U509', Color='Black', StandardCost=13.0863, ListPrice=34.99, Size='NULL', Weight='NULL', ProductCategoryID=35, ProductModelID=33, SellStartDate=datetime.datetime(2001, 7, 1, 0, 0), SellEndDate='NULL', DiscontinuedDate='NULL', ThumbNailPhoto='0x47494638396150003100F70000000000800000008000808000000080800080008080808080C0C0C0FF000000FF00FFFF000000FFFF00FF00FFFFFFFFFF000000000000000000000000000000000000000000000000000000000000000000000000000000000000000000000000000000000000000000000000000000000000', ThumbnailPhotoFileName='no_image_available_small.gif', rowguid='A25A44FB-C2DE-4268-958F-110B8D7621E2', ModifiedDate=datetime.datetime(2004, 3, 11, 10, 1, 36, 827000)), Row(ProductID=709, Name='Mountain Bike Socks, M', ProductNumber='SO-B909-M', Color='White', StandardCost=3.3963, ListPrice=9.5, Size='M', Weight='NULL', ProductCategoryID=27, ProductModelID=18, SellStartDate=datetime.datetime(2001, 7, 1, 0, 0), SellEndDate='2002-06-30 00:00:00.000', DiscontinuedDate='NULL', ThumbNailPhoto='0x47494638396150003100F70000000000800000008000808000000080800080008080808080C0C0C0FF000000FF00FFFF000000FFFF00FF00FFFFFFFFFF000000000000000000000000000000000000000000000000000000000000000000000000000000000000000000000000000000000000000000000000000000000000', ThumbnailPhotoFileName='no_image_available_small.gif', rowguid='18F95F47-1540-4E02-8F1F-CC1BCB6828D0', ModifiedDate=datetime.datetime(2004, 3, 11, 10, 1, 36, 827000)), Row(ProductID=710, Name='Mountain Bike Socks, L', ProductNumber='SO-B909-L', Color='White', StandardCost=3.3963, ListPrice=9.5, Size='L', Weight='NULL', ProductCategoryID=27, ProductModelID=18, SellStartDate=datetime.datetime(2001, 7, 1, 0, 0), SellEndDate='2002-06-30 00:00:00.000', DiscontinuedDate='NULL', ThumbNailPhoto='0x47494638396150003100F70000000000800000008000808000000080800080008080808080C0C0C0FF000000FF00FFFF000000FFFF00FF00FFFFFFFFFF000000000000000000000000000000000000000000000000000000000000000000000000000000000000000000000000000000000000000000000000000000000000', ThumbnailPhotoFileName='no_image_available_small.gif', rowguid='161C035E-21B3-4E14-8E44-AF508F35D80A', ModifiedDate=datetime.datetime(2004, 3, 11, 10, 1, 36, 827000)), Row(ProductID=711, Name='Sport-100 Helmet, Blue', ProductNumber='HL-U509-B', Color='Blue', StandardCost=13.0863, ListPrice=34.99, Size='NULL', Weight='NULL', ProductCategoryID=35, ProductModelID=33, SellStartDate=datetime.datetime(2001, 7, 1, 0, 0), SellEndDate='NULL', DiscontinuedDate='NULL', ThumbNailPhoto='0x47494638396150003100F70000000000800000008000808000000080800080008080808080C0C0C0FF000000FF00FFFF000000FFFF00FF00FFFFFFFFFF000000000000000000000000000000000000000000000000000000000000000000000000000000000000000000000000000000000000000000000000000000000000', ThumbnailPhotoFileName='no_image_available_small.gif', rowguid='FD7C0858-4179-48C2-865B-ABD5DFC7BC1D', ModifiedDate=datetime.datetime(2004, 3, 11, 10, 1, 36, 827000)), Row(ProductID=712, Name='AWC Logo Cap', ProductNumber='CA-1098', Color='Multi', StandardCost=6.9223, ListPrice=8.99, Size='NULL', Weight='NULL', ProductCategoryID=23, ProductModelID=2, SellStartDate=datetime.datetime(2001, 7, 1, 0, 0), SellEndDate='NULL', DiscontinuedDate='NULL', ThumbNailPhoto='0x47494638396150003100F70000000000800000008000808000000080800080008080808080C0C0C0FF000000FF00FFFF000000FFFF00FF00FFFFFFFFFF000000000000000000000000000000000000000000000000000000000000000000000000000000000000000000000000000000000000000000000000000000000000', ThumbnailPhotoFileName='no_image_available_small.gif', rowguid='B9EDE243-A6F4-4629-B1D4-FFE1AEDC6DE7', ModifiedDate=datetime.datetime(2004, 3, 11, 10, 1, 36, 827000)), Row(ProductID=713, Name='Long-Sleeve Logo Jersey, S', ProductNumber='LJ-0192-S', Color='Multi', StandardCost=38.4923, ListPrice=49.99, Size='S', Weight='NULL', ProductCategoryID=25, ProductModelID=11, SellStartDate=datetime.datetime(2001, 7, 1, 0, 0), SellEndDate='NULL', DiscontinuedDate='NULL', ThumbNailPhoto='0x47494638396150003200F70000142567FCFCFC9F9F9F2C4B67CECECEE4E4E43B658AAAAAAA2C3458CACACAF0F0F04757A510182EC6C6C6E6E6E6EAEAEAA4A4A4EEEEEEE2E2E2696665AFAFAF102136225A8B8895AAD2D0E6B1B1B18DAFD3333335FAFAFA2E73B2254B72637098B2BCC876757AC2C2C218479DF6F6F65075AC', ThumbnailPhotoFileName='awc_jersey_male_small.gif', rowguid='FD449C82-A259-4FAE-8584-6CA0255FAF68', ModifiedDate=datetime.datetime(2004, 3, 11, 10, 1, 36, 827000)), Row(ProductID=714, Name='Long-Sleeve Logo Jersey, M', ProductNumber='LJ-0192-M', Color='Multi', StandardCost=38.4923, ListPrice=49.99, Size='M', Weight='NULL', ProductCategoryID=25, ProductModelID=11, SellStartDate=datetime.datetime(2001, 7, 1, 0, 0), SellEndDate='NULL', DiscontinuedDate='NULL', ThumbNailPhoto='0x47494638396150003200F70000142567FCFCFC9F9F9F2C4B67CECECEE4E4E43B658AAAAAAA2C3458CACACAF0F0F04757A510182EC6C6C6E6E6E6EAEAEAA4A4A4EEEEEEE2E2E2696665AFAFAF102136225A8B8895AAD2D0E6B1B1B18DAFD3333335FAFAFA2E73B2254B72637098B2BCC876757AC2C2C218479DF6F6F65075AC', ThumbnailPhotoFileName='awc_jersey_male_small.gif', rowguid='6A290063-A0CF-432A-8110-2EA0FDA14308', ModifiedDate=datetime.datetime(2004, 3, 11, 10, 1, 36, 827000)), Row(ProductID=715, Name='Long-Sleeve Logo Jersey, L', ProductNumber='LJ-0192-L', Color='Multi', StandardCost=38.4923, ListPrice=49.99, Size='L', Weight='NULL', ProductCategoryID=25, ProductModelID=11, SellStartDate=datetime.datetime(2001, 7, 1, 0, 0), SellEndDate='NULL', DiscontinuedDate='NULL', ThumbNailPhoto='0x47494638396150003200F70000142567FCFCFC9F9F9F2C4B67CECECEE4E4E43B658AAAAAAA2C3458CACACAF0F0F04757A510182EC6C6C6E6E6E6EAEAEAA4A4A4EEEEEEE2E2E2696665AFAFAF102136225A8B8895AAD2D0E6B1B1B18DAFD3333335FAFAFA2E73B2254B72637098B2BCC876757AC2C2C218479DF6F6F65075AC', ThumbnailPhotoFileName='awc_jersey_male_small.gif', rowguid='34CF5EF5-C077-4EA0-914A-084814D5CBD5', ModifiedDate=datetime.datetime(2004, 3, 11, 10, 1, 36, 827000)), Row(ProductID=716, Name='Long-Sleeve Logo Jersey, XL', ProductNumber='LJ-0192-X', Color='Multi', StandardCost=38.4923, ListPrice=49.99, Size='XL', Weight='NULL', ProductCategoryID=25, ProductModelID=11, SellStartDate=datetime.datetime(2001, 7, 1, 0, 0), SellEndDate='NULL', DiscontinuedDate='NULL', ThumbNailPhoto='0x47494638396150003200F70000142567FCFCFC9F9F9F2C4B67CECECEE4E4E43B658AAAAAAA2C3458CACACAF0F0F04757A510182EC6C6C6E6E6E6EAEAEAA4A4A4EEEEEEE2E2E2696665AFAFAF102136225A8B8895AAD2D0E6B1B1B18DAFD3333335FAFAFA2E73B2254B72637098B2BCC876757AC2C2C218479DF6F6F65075AC', ThumbnailPhotoFileName='awc_jersey_male_small.gif', rowguid='6EC47EC9-C041-4DDA-B686-2125D539CE9B', ModifiedDate=datetime.datetime(2004, 3, 11, 10, 1, 36, 827000)), Row(ProductID=717, Name='HL Road Frame - Red, 62', ProductNumber='FR-R92R-62', Color='Red', StandardCost=868.6342, ListPrice=1431.5, Size='62', Weight='1043.26', ProductCategoryID=18, ProductModelID=6, SellStartDate=datetime.datetime(2001, 7, 1, 0, 0), SellEndDate='NULL', DiscontinuedDate='NULL', ThumbNailPhoto='0x47494638396150003100F70000000000800000008000808000000080800080008080808080C0C0C0FF000000FF00FFFF000000FFFF00FF00FFFFFFFFFF000000000000000000000000000000000000000000000000000000000000000000000000000000000000000000000000000000000000000000000000000000000000', ThumbnailPhotoFileName='no_image_available_small.gif', rowguid='052E4F8B-0A2A-46B2-9F42-10FEBCFAE416', ModifiedDate=datetime.datetime(2004, 3, 11, 10, 1, 36, 827000)), Row(ProductID=718, Name='HL Road Frame - Red, 44', ProductNumber='FR-R92R-44', Color='Red', StandardCost=868.6342, ListPrice=1431.5, Size='44', Weight='961.61', ProductCategoryID=18, ProductModelID=6, SellStartDate=datetime.datetime(2001, 7, 1, 0, 0), SellEndDate='NULL', DiscontinuedDate='NULL', ThumbNailPhoto='0x47494638396150003100F70000000000800000008000808000000080800080008080808080C0C0C0FF000000FF00FFFF000000FFFF00FF00FFFFFFFFFF000000000000000000000000000000000000000000000000000000000000000000000000000000000000000000000000000000000000000000000000000000000000', ThumbnailPhotoFileName='no_image_available_small.gif', rowguid='A88D3B54-2CAE-43F2-8C6E-EA1D97B46A7C', ModifiedDate=datetime.datetime(2004, 3, 11, 10, 1, 36, 827000)), Row(ProductID=719, Name='HL Road Frame - Red, 48', ProductNumber='FR-R92R-48', Color='Red', StandardCost=868.6342, ListPrice=1431.5, Size='48', Weight='979.75', ProductCategoryID=18, ProductModelID=6, SellStartDate=datetime.datetime(2001, 7, 1, 0, 0), SellEndDate='NULL', DiscontinuedDate='NULL', ThumbNailPhoto='0x47494638396150003100F70000000000800000008000808000000080800080008080808080C0C0C0FF000000FF00FFFF000000FFFF00FF00FFFFFFFFFF000000000000000000000000000000000000000000000000000000000000000000000000000000000000000000000000000000000000000000000000000000000000', ThumbnailPhotoFileName='no_image_available_small.gif', rowguid='07BEFC9A-7634-402B-B234-D7797733BAAF', ModifiedDate=datetime.datetime(2004, 3, 11, 10, 1, 36, 827000)), Row(ProductID=720, Name='HL Road Frame - Red, 52', ProductNumber='FR-R92R-52', Color='Red', StandardCost=868.6342, ListPrice=1431.5, Size='52', Weight='997.90', ProductCategoryID=18, ProductModelID=6, SellStartDate=datetime.datetime(2001, 7, 1, 0, 0), SellEndDate='NULL', DiscontinuedDate='NULL', ThumbNailPhoto='0x47494638396150003100F70000000000800000008000808000000080800080008080808080C0C0C0FF000000FF00FFFF000000FFFF00FF00FFFFFFFFFF000000000000000000000000000000000000000000000000000000000000000000000000000000000000000000000000000000000000000000000000000000000000', ThumbnailPhotoFileName='no_image_available_small.gif', rowguid='FCFEA68F-310E-4E6E-9F99-BB17D011EBAE', ModifiedDate=datetime.datetime(2004, 3, 11, 10, 1, 36, 827000)), Row(ProductID=721, Name='HL Road Frame - Red, 56', ProductNumber='FR-R92R-56', Color='Red', StandardCost=868.6342, ListPrice=1431.5, Size='56', Weight='1016.04', ProductCategoryID=18, ProductModelID=6, SellStartDate=datetime.datetime(2001, 7, 1, 0, 0), SellEndDate='NULL', DiscontinuedDate='NULL', ThumbNailPhoto='0x47494638396150003100F70000000000800000008000808000000080800080008080808080C0C0C0FF000000FF00FFFF000000FFFF00FF00FFFFFFFFFF000000000000000000000000000000000000000000000000000000000000000000000000000000000000000000000000000000000000000000000000000000000000', ThumbnailPhotoFileName='no_image_available_small.gif', rowguid='56C85873-4993-41B4-8096-1067CFD7E4BD', ModifiedDate=datetime.datetime(2004, 3, 11, 10, 1, 36, 827000)), Row(ProductID=722, Name='LL Road Frame - Black, 58', ProductNumber='FR-R38B-58', Color='Black', StandardCost=204.6251, ListPrice=337.22, Size='58', Weight='1115.83', ProductCategoryID=18, ProductModelID=9, SellStartDate=datetime.datetime(2001, 7, 1, 0, 0), SellEndDate='NULL', DiscontinuedDate='NULL', ThumbNailPhoto='0x47494638396150003100F70000000000800000008000808000000080800080008080808080C0C0C0FF000000FF00FFFF000000FFFF00FF00FFFFFFFFFF000000000000000000000000000000000000000000000000000000000000000000000000000000000000000000000000000000000000000000000000000000000000', ThumbnailPhotoFileName='no_image_available_small.gif', rowguid='2140F256-F705-4D67-975D-32DE03265838', ModifiedDate=datetime.datetime(2004, 3, 11, 10, 1, 36, 827000)), Row(ProductID=723, Name='LL Road Frame - Black, 60', ProductNumber='FR-R38B-60', Color='Black', StandardCost=204.6251, ListPrice=337.22, Size='60', Weight='1124.90', ProductCategoryID=18, ProductModelID=9, SellStartDate=datetime.datetime(2001, 7, 1, 0, 0), SellEndDate='NULL', DiscontinuedDate='NULL', ThumbNailPhoto='0x47494638396150003100F70000000000800000008000808000000080800080008080808080C0C0C0FF000000FF00FFFF000000FFFF00FF00FFFFFFFFFF000000000000000000000000000000000000000000000000000000000000000000000000000000000000000000000000000000000000000000000000000000000000', ThumbnailPhotoFileName='no_image_available_small.gif', rowguid='AA95E2A5-E7C4-4B74-B1EA-B52EE3B51537', ModifiedDate=datetime.datetime(2004, 3, 11, 10, 1, 36, 827000)), Row(ProductID=724, Name='LL Road Frame - Black, 62', ProductNumber='FR-R38B-62', Color='Black', StandardCost=204.6251, ListPrice=337.22, Size='62', Weight='1133.98', ProductCategoryID=18, ProductModelID=9, SellStartDate=datetime.datetime(2001, 7, 1, 0, 0), SellEndDate='NULL', DiscontinuedDate='NULL', ThumbNailPhoto='0x47494638396150003100F70000000000800000008000808000000080800080008080808080C0C0C0FF000000FF00FFFF000000FFFF00FF00FFFFFFFFFF000000000000000000000000000000000000000000000000000000000000000000000000000000000000000000000000000000000000000000000000000000000000', ThumbnailPhotoFileName='no_image_available_small.gif', rowguid='5247BE33-50BF-4527-8A30-A39AAE500A8E', ModifiedDate=datetime.datetime(2004, 3, 11, 10, 1, 36, 827000)), Row(ProductID=725, Name='LL Road Frame - Red, 44', ProductNumber='FR-R38R-44', Color='Red', StandardCost=187.1571, ListPrice=337.22, Size='44', Weight='1052.33', ProductCategoryID=18, ProductModelID=9, SellStartDate=datetime.datetime(2001, 7, 1, 0, 0), SellEndDate='2003-06-30 00:00:00.000', DiscontinuedDate='NULL', ThumbNailPhoto='0x47494638396150003100F70000000000800000008000808000000080800080008080808080C0C0C0FF000000FF00FFFF000000FFFF00FF00FFFFFFFFFF000000000000000000000000000000000000000000000000000000000000000000000000000000000000000000000000000000000000000000000000000000000000', ThumbnailPhotoFileName='no_image_available_small.gif', rowguid='137D319D-44AD-42B2-AB61-60B9CE52B5F2', ModifiedDate=datetime.datetime(2004, 3, 11, 10, 1, 36, 827000)), Row(ProductID=726, Name='LL Road Frame - Red, 48', ProductNumber='FR-R38R-48', Color='Red', StandardCost=187.1571, ListPrice=337.22, Size='48', Weight='1070.47', ProductCategoryID=18, ProductModelID=9, SellStartDate=datetime.datetime(2001, 7, 1, 0, 0), SellEndDate='2003-06-30 00:00:00.000', DiscontinuedDate='NULL', ThumbNailPhoto='0x47494638396150003100F70000000000800000008000808000000080800080008080808080C0C0C0FF000000FF00FFFF000000FFFF00FF00FFFFFFFFFF000000000000000000000000000000000000000000000000000000000000000000000000000000000000000000000000000000000000000000000000000000000000', ThumbnailPhotoFileName='no_image_available_small.gif', rowguid='35213547-275F-4767-805D-C8A4B8E13745', ModifiedDate=datetime.datetime(2004, 3, 11, 10, 1, 36, 827000)), Row(ProductID=727, Name='LL Road Frame - Red, 52', ProductNumber='FR-R38R-52', Color='Red', StandardCost=187.1571, ListPrice=337.22, Size='52', Weight='1088.62', ProductCategoryID=18, ProductModelID=9, SellStartDate=datetime.datetime(2001, 7, 1, 0, 0), SellEndDate='2003-06-30 00:00:00.000', DiscontinuedDate='NULL', ThumbNailPhoto='0x47494638396150003100F70000000000800000008000808000000080800080008080808080C0C0C0FF000000FF00FFFF000000FFFF00FF00FFFFFFFFFF000000000000000000000000000000000000000000000000000000000000000000000000000000000000000000000000000000000000000000000000000000000000', ThumbnailPhotoFileName='no_image_available_small.gif', rowguid='C455E0B3-D716-419D-ABF0-7E03EFDD2E26', ModifiedDate=datetime.datetime(2004, 3, 11, 10, 1, 36, 827000)), Row(ProductID=728, Name='LL Road Frame - Red, 58', ProductNumber='FR-R38R-58', Color='Red', StandardCost=187.1571, ListPrice=337.22, Size='58', Weight='1115.83', ProductCategoryID=18, ProductModelID=9, SellStartDate=datetime.datetime(2001, 7, 1, 0, 0), SellEndDate='2003-06-30 00:00:00.000', DiscontinuedDate='NULL', ThumbNailPhoto='0x47494638396150003100F70000000000800000008000808000000080800080008080808080C0C0C0FF000000FF00FFFF000000FFFF00FF00FFFFFFFFFF000000000000000000000000000000000000000000000000000000000000000000000000000000000000000000000000000000000000000000000000000000000000', ThumbnailPhotoFileName='no_image_available_small.gif', rowguid='799A56FF-5AD2-41B3-BFAC-528B477AD129', ModifiedDate=datetime.datetime(2004, 3, 11, 10, 1, 36, 827000)), Row(ProductID=729, Name='LL Road Frame - Red, 60', ProductNumber='FR-R38R-60', Color='Red', StandardCost=187.1571, ListPrice=337.22, Size='60', Weight='1124.90', ProductCategoryID=18, ProductModelID=9, SellStartDate=datetime.datetime(2001, 7, 1, 0, 0), SellEndDate='2003-06-30 00:00:00.000', DiscontinuedDate='NULL', ThumbNailPhoto='0x47494638396150003100F70000000000800000008000808000000080800080008080808080C0C0C0FF000000FF00FFFF000000FFFF00FF00FFFFFFFFFF000000000000000000000000000000000000000000000000000000000000000000000000000000000000000000000000000000000000000000000000000000000000', ThumbnailPhotoFileName='no_image_available_small.gif', rowguid='1784BB14-D1F5-4B24-92DA-9127AD179302', ModifiedDate=datetime.datetime(2004, 3, 11, 10, 1, 36, 827000)), Row(ProductID=730, Name='LL Road Frame - Red, 62', ProductNumber='FR-R38R-62', Color='Red', StandardCost=187.1571, ListPrice=337.22, Size='62', Weight='1133.98', ProductCategoryID=18, ProductModelID=9, SellStartDate=datetime.datetime(2001, 7, 1, 0, 0), SellEndDate='2003-06-30 00:00:00.000', DiscontinuedDate='NULL', ThumbNailPhoto='0x47494638396150003100F70000000000800000008000808000000080800080008080808080C0C0C0FF000000FF00FFFF000000FFFF00FF00FFFFFFFFFF000000000000000000000000000000000000000000000000000000000000000000000000000000000000000000000000000000000000000000000000000000000000', ThumbnailPhotoFileName='no_image_available_small.gif', rowguid='7E73AA1F-8569-4D87-9F80-AC2E513E0803', ModifiedDate=datetime.datetime(2004, 3, 11, 10, 1, 36, 827000)), Row(ProductID=731, Name='ML Road Frame - Red, 44', ProductNumber='FR-R72R-44', Color='Red', StandardCost=352.1394, ListPrice=594.83, Size='44', Weight='1006.97', ProductCategoryID=18, ProductModelID=16, SellStartDate=datetime.datetime(2001, 7, 1, 0, 0), SellEndDate='2002-06-30 00:00:00.000', DiscontinuedDate='NULL', ThumbNailPhoto='0x47494638396150003100F70000000000800000008000808000000080800080008080808080C0C0C0FF000000FF00FFFF000000FFFF00FF00FFFFFFFFFF000000000000000000000000000000000000000000000000000000000000000000000000000000000000000000000000000000000000000000000000000000000000', ThumbnailPhotoFileName='no_image_available_small.gif', rowguid='459E041C-3234-409E-B4CD-81728F8A2398', ModifiedDate=datetime.datetime(2004, 3, 11, 10, 1, 36, 827000)), Row(ProductID=732, Name='ML Road Frame - Red, 48', ProductNumber='FR-R72R-48', Color='Red', StandardCost=352.1394, ListPrice=594.83, Size='48', Weight='1025.11', ProductCategoryID=18, ProductModelID=16, SellStartDate=datetime.datetime(2001, 7, 1, 0, 0), SellEndDate='2002-06-30 00:00:00.000', DiscontinuedDate='NULL', ThumbNailPhoto='0x47494638396150003100F70000000000800000008000808000000080800080008080808080C0C0C0FF000000FF00FFFF000000FFFF00FF00FFFFFFFFFF000000000000000000000000000000000000000000000000000000000000000000000000000000000000000000000000000000000000000000000000000000000000', ThumbnailPhotoFileName='no_image_available_small.gif', rowguid='B673189C-C042-413B-8194-73BC44B0492C', ModifiedDate=datetime.datetime(2004, 3, 11, 10, 1, 36, 827000)), Row(ProductID=733, Name='ML Road Frame - Red, 52', ProductNumber='FR-R72R-52', Color='Red', StandardCost=352.1394, ListPrice=594.83, Size='52', Weight='1043.26', ProductCategoryID=18, ProductModelID=16, SellStartDate=datetime.datetime(2001, 7, 1, 0, 0), SellEndDate='2002-06-30 00:00:00.000', DiscontinuedDate='NULL', ThumbNailPhoto='0x47494638396150003100F70000000000800000008000808000000080800080008080808080C0C0C0FF000000FF00FFFF000000FFFF00FF00FFFFFFFFFF000000000000000000000000000000000000000000000000000000000000000000000000000000000000000000000000000000000000000000000000000000000000', ThumbnailPhotoFileName='no_image_available_small.gif', rowguid='55EA276B-82D8-4CCB-9AB1-9B1B75B15A83', ModifiedDate=datetime.datetime(2004, 3, 11, 10, 1, 36, 827000)), Row(ProductID=734, Name='ML Road Frame - Red, 58', ProductNumber='FR-R72R-58', Color='Red', StandardCost=352.1394, ListPrice=594.83, Size='58', Weight='1070.47', ProductCategoryID=18, ProductModelID=16, SellStartDate=datetime.datetime(2001, 7, 1, 0, 0), SellEndDate='2002-06-30 00:00:00.000', DiscontinuedDate='NULL', ThumbNailPhoto='0x47494638396150003100F70000000000800000008000808000000080800080008080808080C0C0C0FF000000FF00FFFF000000FFFF00FF00FFFFFFFFFF000000000000000000000000000000000000000000000000000000000000000000000000000000000000000000000000000000000000000000000000000000000000', ThumbnailPhotoFileName='no_image_available_small.gif', rowguid='DF4CE1E2-BA9A-4657-B999-CCFA6C55D9C1', ModifiedDate=datetime.datetime(2004, 3, 11, 10, 1, 36, 827000)), Row(ProductID=735, Name='ML Road Frame - Red, 60', ProductNumber='FR-R72R-60', Color='Red', StandardCost=352.1394, ListPrice=594.83, Size='60', Weight='1079.54', ProductCategoryID=18, ProductModelID=16, SellStartDate=datetime.datetime(2001, 7, 1, 0, 0), SellEndDate='2002-06-30 00:00:00.000', DiscontinuedDate='NULL', ThumbNailPhoto='0x47494638396150003100F70000000000800000008000808000000080800080008080808080C0C0C0FF000000FF00FFFF000000FFFF00FF00FFFFFFFFFF000000000000000000000000000000000000000000000000000000000000000000000000000000000000000000000000000000000000000000000000000000000000', ThumbnailPhotoFileName='no_image_available_small.gif', rowguid='B2E48E8C-63A5-469A-BA4C-4F5EBB1104A4', ModifiedDate=datetime.datetime(2004, 3, 11, 10, 1, 36, 827000)), Row(ProductID=736, Name='LL Road Frame - Black, 44', ProductNumber='FR-R38B-44', Color='Black', StandardCost=204.6251, ListPrice=337.22, Size='44', Weight='1052.33', ProductCategoryID=18, ProductModelID=9, SellStartDate=datetime.datetime(2001, 7, 1, 0, 0), SellEndDate='NULL', DiscontinuedDate='NULL', ThumbNailPhoto='0x47494638396150003100F70000000000800000008000808000000080800080008080808080C0C0C0FF000000FF00FFFF000000FFFF00FF00FFFFFFFFFF000000000000000000000000000000000000000000000000000000000000000000000000000000000000000000000000000000000000000000000000000000000000', ThumbnailPhotoFileName='no_image_available_small.gif', rowguid='C9967889-F490-4A66-943A-BCE432E938D8', ModifiedDate=datetime.datetime(2004, 3, 11, 10, 1, 36, 827000)), Row(ProductID=737, Name='LL Road Frame - Black, 48', ProductNumber='FR-R38B-48', Color='Black', StandardCost=204.6251, ListPrice=337.22, Size='48', Weight='1070.47', ProductCategoryID=18, ProductModelID=9, SellStartDate=datetime.datetime(2001, 7, 1, 0, 0), SellEndDate='NULL', DiscontinuedDate='NULL', ThumbNailPhoto='0x47494638396150003100F70000000000800000008000808000000080800080008080808080C0C0C0FF000000FF00FFFF000000FFFF00FF00FFFFFFFFFF000000000000000000000000000000000000000000000000000000000000000000000000000000000000000000000000000000000000000000000000000000000000', ThumbnailPhotoFileName='no_image_available_small.gif', rowguid='3B5F29B6-A441-4FF7-A0FA-FAD10E2CEB4C', ModifiedDate=datetime.datetime(2004, 3, 11, 10, 1, 36, 827000)), Row(ProductID=738, Name='LL Road Frame - Black, 52', ProductNumber='FR-R38B-52', Color='Black', StandardCost=204.6251, ListPrice=337.22, Size='52', Weight='1088.62', ProductCategoryID=18, ProductModelID=9, SellStartDate=datetime.datetime(2001, 7, 1, 0, 0), SellEndDate='NULL', DiscontinuedDate='NULL', ThumbNailPhoto='0x47494638396150003100F70000000000800000008000808000000080800080008080808080C0C0C0FF000000FF00FFFF000000FFFF00FF00FFFFFFFFFF000000000000000000000000000000000000000000000000000000000000000000000000000000000000000000000000000000000000000000000000000000000000', ThumbnailPhotoFileName='no_image_available_small.gif', rowguid='18FC5D72-A012-4DC7-BB35-0D01A84D0219', ModifiedDate=datetime.datetime(2004, 3, 11, 10, 1, 36, 827000)), Row(ProductID=739, Name='HL Mountain Frame - Silver, 42', ProductNumber='FR-M94S-42', Color='Silver', StandardCost=747.2002, ListPrice=1364.5, Size='42', Weight='1233.76', ProductCategoryID=16, ProductModelID=5, SellStartDate=datetime.datetime(2001, 7, 1, 0, 0), SellEndDate='NULL', DiscontinuedDate='NULL', ThumbNailPhoto='0x47494638396150003100F70000C1C3BDF4F4F4BBCCC9ECEAEAC2D4D1ACC2BBB5B8B4DADADAB8BAB5ABB8B4AAB5B2E8E6E6D6D5D5A8B4ADEAEAEAC7C8C4B0B2ACA6B3B3E2E2E2DFDEDEE1E0E0ECECECB3BDBBF0F0F0CDD2CCD4D9D4F4F2F3C2D2CDEAE8E8E4E2E2E6F3F3DCDCDCCADBD9F2F2F2A4A5A3F0EEEEADADACABBDBB', ThumbnailPhotoFileName='frame_silver_small.gif', rowguid='8AE32663-8D6F-457D-8343-5B181FEC43A7', ModifiedDate=datetime.datetime(2004, 3, 11, 10, 1, 36, 827000)), Row(ProductID=740, Name='HL Mountain Frame - Silver, 44', ProductNumber='FR-M94S-44', Color='Silver', StandardCost=706.811, ListPrice=1364.5, Size='44', Weight='1251.91', ProductCategoryID=16, ProductModelID=5, SellStartDate=datetime.datetime(2001, 7, 1, 0, 0), SellEndDate='2002-06-30 00:00:00.000', DiscontinuedDate='NULL', ThumbNailPhoto='0x47494638396150003100F70000C1C3BDF4F4F4BBCCC9ECEAEAC2D4D1ACC2BBB5B8B4DADADAB8BAB5ABB8B4AAB5B2E8E6E6D6D5D5A8B4ADEAEAEAC7C8C4B0B2ACA6B3B3E2E2E2DFDEDEE1E0E0ECECECB3BDBBF0F0F0CDD2CCD4D9D4F4F2F3C2D2CDEAE8E8E4E2E2E6F3F3DCDCDCCADBD9F2F2F2A4A5A3F0EEEEADADACABBDBB', ThumbnailPhotoFileName='frame_silver_small.gif', rowguid='1909C60C-C490-411D-B3E6-12DDD7832482', ModifiedDate=datetime.datetime(2004, 3, 11, 10, 1, 36, 827000)), Row(ProductID=741, Name='HL Mountain Frame - Silver, 48', ProductNumber='FR-M94S-52', Color='Silver', StandardCost=706.811, ListPrice=1364.5, Size='48', Weight='1270.05', ProductCategoryID=16, ProductModelID=5, SellStartDate=datetime.datetime(2001, 7, 1, 0, 0), SellEndDate='2002-06-30 00:00:00.000', DiscontinuedDate='NULL', ThumbNailPhoto='0x47494638396150003100F70000C1C3BDF4F4F4BBCCC9ECEAEAC2D4D1ACC2BBB5B8B4DADADAB8BAB5ABB8B4AAB5B2E8E6E6D6D5D5A8B4ADEAEAEAC7C8C4B0B2ACA6B3B3E2E2E2DFDEDEE1E0E0ECECECB3BDBBF0F0F0CDD2CCD4D9D4F4F2F3C2D2CDEAE8E8E4E2E2E6F3F3DCDCDCCADBD9F2F2F2A4A5A3F0EEEEADADACABBDBB', ThumbnailPhotoFileName='frame_silver_small.gif', rowguid='B181EC1F-CA20-4724-B2EB-15F3E455142E', ModifiedDate=datetime.datetime(2004, 3, 11, 10, 1, 36, 827000)), Row(ProductID=742, Name='HL Mountain Frame - Silver, 46', ProductNumber='FR-M94S-46', Color='Silver', StandardCost=747.2002, ListPrice=1364.5, Size='46', Weight='1288.20', ProductCategoryID=16, ProductModelID=5, SellStartDate=datetime.datetime(2001, 7, 1, 0, 0), SellEndDate='NULL', DiscontinuedDate='NULL', ThumbNailPhoto='0x47494638396150003100F70000C1C3BDF4F4F4BBCCC9ECEAEAC2D4D1ACC2BBB5B8B4DADADAB8BAB5ABB8B4AAB5B2E8E6E6D6D5D5A8B4ADEAEAEAC7C8C4B0B2ACA6B3B3E2E2E2DFDEDEE1E0E0ECECECB3BDBBF0F0F0CDD2CCD4D9D4F4F2F3C2D2CDEAE8E8E4E2E2E6F3F3DCDCDCCADBD9F2F2F2A4A5A3F0EEEEADADACABBDBB', ThumbnailPhotoFileName='frame_silver_small.gif', rowguid='A189D86E-D923-4336-B13D-A5DB6F426540', ModifiedDate=datetime.datetime(2004, 3, 11, 10, 1, 36, 827000)), Row(ProductID=743, Name='HL Mountain Frame - Black, 42', ProductNumber='FR-M94B-42', Color='Black', StandardCost=739.041, ListPrice=1349.6, Size='42', Weight='1233.76', ProductCategoryID=16, ProductModelID=5, SellStartDate=datetime.datetime(2001, 7, 1, 0, 0), SellEndDate='NULL', DiscontinuedDate='NULL', ThumbNailPhoto='0x47494638396150003100F70000ECECECD1D1D1A3A3A3DCDCDCE3E2E25B5B5A858483C4C4C4F3F2F26B6C6AF4F2F3E5E4E4E5E2E3EAE8E8535452F5F3F38B8C89F0EEEEE6E6E6BDBDBCE2DCDCE8E6E79393937D7D7CD8D8D8EEEEEE9B9B9BDEDCDEEDEAEA444543E6E4E43C3D3AF9F2F1DCDBDCD4D5D4EFECECDBD4D5F2F0F1', ThumbnailPhotoFileName='frame_black_small.gif', rowguid='27DB28F8-5AB8-4091-B94E-6F1B2D8E7AB0', ModifiedDate=datetime.datetime(2004, 3, 11, 10, 1, 36, 827000)), Row(ProductID=744, Name='HL Mountain Frame - Black, 44', ProductNumber='FR-M94B-44', Color='Black', StandardCost=699.0928, ListPrice=1349.6, Size='44', Weight='1251.91', ProductCategoryID=16, ProductModelID=5, SellStartDate=datetime.datetime(2001, 7, 1, 0, 0), SellEndDate='2002-06-30 00:00:00.000', DiscontinuedDate='NULL', ThumbNailPhoto='0x47494638396150003100F70000ECECECD1D1D1A3A3A3DCDCDCE3E2E25B5B5A858483C4C4C4F3F2F26B6C6AF4F2F3E5E4E4E5E2E3EAE8E8535452F5F3F38B8C89F0EEEEE6E6E6BDBDBCE2DCDCE8E6E79393937D7D7CD8D8D8EEEEEE9B9B9BDEDCDEEDEAEA444543E6E4E43C3D3AF9F2F1DCDBDCD4D5D4EFECECDBD4D5F2F0F1', ThumbnailPhotoFileName='frame_black_small.gif', rowguid='CB443286-6B25-409F-A10B-1AD4EEB4BD4E', ModifiedDate=datetime.datetime(2004, 3, 11, 10, 1, 36, 827000)), Row(ProductID=745, Name='HL Mountain Frame - Black, 48', ProductNumber='FR-M94B-48', Color='Black', StandardCost=699.0928, ListPrice=1349.6, Size='48', Weight='1270.05', ProductCategoryID=16, ProductModelID=5, SellStartDate=datetime.datetime(2001, 7, 1, 0, 0), SellEndDate='2002-06-30 00:00:00.000', DiscontinuedDate='NULL', ThumbNailPhoto='0x47494638396150003100F70000ECECECD1D1D1A3A3A3DCDCDCE3E2E25B5B5A858483C4C4C4F3F2F26B6C6AF4F2F3E5E4E4E5E2E3EAE8E8535452F5F3F38B8C89F0EEEEE6E6E6BDBDBCE2DCDCE8E6E79393937D7D7CD8D8D8EEEEEE9B9B9BDEDCDEEDEAEA444543E6E4E43C3D3AF9F2F1DCDBDCD4D5D4EFECECDBD4D5F2F0F1', ThumbnailPhotoFileName='frame_black_small.gif', rowguid='1FEE0573-6676-432D-8D6D-41BA9FAA5865', ModifiedDate=datetime.datetime(2004, 3, 11, 10, 1, 36, 827000)), Row(ProductID=746, Name='HL Mountain Frame - Black, 46', ProductNumber='FR-M94B-46', Color='Black', StandardCost=739.041, ListPrice=1349.6, Size='46', Weight='1288.20', ProductCategoryID=16, ProductModelID=5, SellStartDate=datetime.datetime(2001, 7, 1, 0, 0), SellEndDate='NULL', DiscontinuedDate='NULL', ThumbNailPhoto='0x47494638396150003100F70000ECECECD1D1D1A3A3A3DCDCDCE3E2E25B5B5A858483C4C4C4F3F2F26B6C6AF4F2F3E5E4E4E5E2E3EAE8E8535452F5F3F38B8C89F0EEEEE6E6E6BDBDBCE2DCDCE8E6E79393937D7D7CD8D8D8EEEEEE9B9B9BDEDCDEEDEAEA444543E6E4E43C3D3AF9F2F1DCDBDCD4D5D4EFECECDBD4D5F2F0F1', ThumbnailPhotoFileName='frame_black_small.gif', rowguid='50ABEBCB-451E-42B9-8DBB-E5C4A34470E9', ModifiedDate=datetime.datetime(2004, 3, 11, 10, 1, 36, 827000)), Row(ProductID=747, Name='HL Mountain Frame - Black, 38', ProductNumber='FR-M94B-38', Color='Black', StandardCost=739.041, ListPrice=1349.6, Size='38', Weight='1215.62', ProductCategoryID=16, ProductModelID=5, SellStartDate=datetime.datetime(2001, 7, 1, 0, 0), SellEndDate='NULL', DiscontinuedDate='NULL', ThumbNailPhoto='0x47494638396150003100F70000ECECECD1D1D1A3A3A3DCDCDCE3E2E25B5B5A858483C4C4C4F3F2F26B6C6AF4F2F3E5E4E4E5E2E3EAE8E8535452F5F3F38B8C89F0EEEEE6E6E6BDBDBCE2DCDCE8E6E79393937D7D7CD8D8D8EEEEEE9B9B9BDEDCDEEDEAEA444543E6E4E43C3D3AF9F2F1DCDBDCD4D5D4EFECECDBD4D5F2F0F1', ThumbnailPhotoFileName='frame_black_small.gif', rowguid='0C548577-3171-4CE2-B9A0-1ED526849DE8', ModifiedDate=datetime.datetime(2004, 3, 11, 10, 1, 36, 827000)), Row(ProductID=748, Name='HL Mountain Frame - Silver, 38', ProductNumber='FR-M94S-38', Color='Silver', StandardCost=747.2002, ListPrice=1364.5, Size='38', Weight='1215.62', ProductCategoryID=16, ProductModelID=5, SellStartDate=datetime.datetime(2001, 7, 1, 0, 0), SellEndDate='NULL', DiscontinuedDate='NULL', ThumbNailPhoto='0x47494638396150003100F70000C1C3BDF4F4F4BBCCC9ECEAEAC2D4D1ACC2BBB5B8B4DADADAB8BAB5ABB8B4AAB5B2E8E6E6D6D5D5A8B4ADEAEAEAC7C8C4B0B2ACA6B3B3E2E2E2DFDEDEE1E0E0ECECECB3BDBBF0F0F0CDD2CCD4D9D4F4F2F3C2D2CDEAE8E8E4E2E2E6F3F3DCDCDCCADBD9F2F2F2A4A5A3F0EEEEADADACABBDBB', ThumbnailPhotoFileName='frame_silver_small.gif', rowguid='F246ACAA-A80B-40EC-9208-02EDEF885129', ModifiedDate=datetime.datetime(2004, 3, 11, 10, 1, 36, 827000)), Row(ProductID=749, Name='Road-150 Red, 62', ProductNumber='BK-R93R-62', Color='Red', StandardCost=2171.2942, ListPrice=3578.27, Size='62', Weight='6803.85', ProductCategoryID=6, ProductModelID=25, SellStartDate=datetime.datetime(2001, 7, 1, 0, 0), SellEndDate='2002-06-30 00:00:00.000', DiscontinuedDate='NULL', ThumbNailPhoto='0x47494638396150003100F70000920407C6BCC339343A585459D0162DF9F9FDF9F9F9DCDBDBDBE4E8A92E37F978885B2129D3CACEC4C1C5F9EBEC876A6F484349A8454DF4F4FAEDEDF5F1F1F1E3E3E4EEEDF8C66A76665D64837D83F0EEF4E0DEE4BDC5CEE7000F70859FE9F3F6A03946D4D2D4F5F5FCCCC9D5CD354F2A242A', ThumbnailPhotoFileName='superlight_red_small.gif', rowguid='BC621E1F-2553-4FDC-B22E-5E44A9003569', ModifiedDate=datetime.datetime(2004, 3, 11, 10, 1, 36, 827000))]\n"
          ]
        }
      ]
    }
  ]
}